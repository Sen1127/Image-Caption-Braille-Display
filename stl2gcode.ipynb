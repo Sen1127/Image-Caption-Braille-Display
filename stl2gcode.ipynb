{
 "cells": [
  {
   "cell_type": "code",
   "execution_count": 49,
   "metadata": {},
   "outputs": [],
   "source": [
    "from text2gcode import pytoscad\n",
    "from text2gcode import conversion\n",
    "from ImageCaptionModel_1 import img2text\n",
    "from ImageCaptionModel_2 import predict_step\n",
    "from default import addN\n",
    "from arduino import connect2arduino"
   ]
  },
  {
   "cell_type": "code",
   "execution_count": 54,
   "metadata": {},
   "outputs": [
    {
     "name": "stdout",
     "output_type": "stream",
     "text": [
      "a park bench in \n",
      "the middle of a \n",
      "field \n",
      "['a park bench in ', 'the middle of a ', 'field ']\n",
      "len:3\n"
     ]
    }
   ],
   "source": [
    "from text2gcode import pytoscad\n",
    "from text2gcode import conversion\n",
    "from ImageCaptionModel_1 import img2text\n",
    "from ImageCaptionModel_2 import predict_step\n",
    "from default import addN\n",
    "import argparse\n",
    "\n",
    "def Img2gcode(fname, model):\n",
    "    if model == 1:\n",
    "        description = img2text(fname)\n",
    "        print(addN(description))\n",
    "    elif model == 2:\n",
    "        descriptions = predict_step([f'{fname}.png'])\n",
    "        for description in descriptions:\n",
    "            print(addN(description))\n",
    "            pytoscad(fname,addN(description))\n",
    "            conversion(fname)\n",
    "\n",
    "if __name__ == \"__main__\":\n",
    "    parser = argparse.ArgumentParser(description=\"Process a image file to a gcode file\\nplease enter (1)img file name (2)model mode\")\n",
    "    parser.add_argument(\"string_param\", type=str, help=\"image file name\")\n",
    "    parser.add_argument(\"int_param\", type=int, help=\"model mode\")\n",
    "\n",
    "    args = parser.parse_args()\n",
    "    Img2gcode(args.string_param, args.int_param)"
   ]
  },
  {
   "cell_type": "code",
   "execution_count": null,
   "metadata": {},
   "outputs": [],
   "source": [
    "def Img2arduino(fname):\n",
    "    descriptions = predict_step([f'{fname}.png'])\n",
    "    for description in descriptions:\n",
    "        connect2arduino(description)"
   ]
  }
 ],
 "metadata": {
  "kernelspec": {
   "display_name": "base",
   "language": "python",
   "name": "python3"
  },
  "language_info": {
   "codemirror_mode": {
    "name": "ipython",
    "version": 3
   },
   "file_extension": ".py",
   "mimetype": "text/x-python",
   "name": "python",
   "nbconvert_exporter": "python",
   "pygments_lexer": "ipython3",
   "version": "3.11.4"
  }
 },
 "nbformat": 4,
 "nbformat_minor": 2
}
